{
 "cells": [
  {
   "cell_type": "code",
   "execution_count": 1,
   "id": "8bfd7cda",
   "metadata": {},
   "outputs": [],
   "source": [
    "import collections\n",
    "import pickle\n",
    "import torch\n",
    "import numpy as np\n",
    "import pandas as pd\n",
    "from sklearn.model_selection import train_test_split\n",
    "from sklearn.linear_model import LogisticRegression\n",
    "from matrix_factorization import MF, NCF_ours, NCF\n",
    "from utils import *\n",
    "from sklearn.metrics import roc_auc_score\n",
    "import time\n",
    "np.random.seed(2020)\n",
    "torch.manual_seed(2020)\n",
    "\n",
    "def mse_func(x, y): return np.mean((x-y)**2)\n",
    "\n",
    "file = open(\"constructed_data\", \"rb\")\n",
    "constructed_data_train = pickle.load(file)\n",
    "constructed_data_test = pickle.load(file)\n",
    "x_tr = pickle.load(file)\n",
    "t_tr = pickle.load(file)\n",
    "c_tr = pickle.load(file)\n",
    "y_tr = pickle.load(file)\n",
    "file.close()\n",
    "\n",
    "# 用户的数量\n",
    "num_user = int(max(x_tr[:, 0]) + 1)\n",
    "\n",
    "# 视频的数量\n",
    "num_item = int(max(x_tr[:, 1]) + 1)"
   ]
  },
  {
   "cell_type": "code",
   "execution_count": 2,
   "id": "bf16a8b0",
   "metadata": {},
   "outputs": [],
   "source": [
    "# 嵌入维度\n",
    "embedding_k = 64\n",
    "\n",
    "# 惩罚\n",
    "C = 0.4\n",
    "\n",
    "# 预算\n",
    "budget = 0.4\n",
    "\n",
    "# 批量大小\n",
    "batch_size = 8192\n",
    "\n",
    "# 场景\n",
    "scenario = 'coupon'\n",
    "\n",
    "# 测试集\n",
    "x_te = constructed_data_test[:, :2]\n",
    "\n",
    "# 初始化奖励数组\n",
    "R = np.zeros(constructed_data_test.shape[0])\n",
    "\n",
    "if scenario == 'cash':\n",
    "    for i in range(constructed_data_test.shape[0]):\n",
    "        if constructed_data_test[:, 6][i] == 4:\n",
    "            R[i] = 1\n",
    "        elif constructed_data_test[:, 6][i] == 3 or constructed_data_test[:, 6][i] == 5:\n",
    "            R[i] = -C\n",
    "if scenario == 'coupon':\n",
    "    for i in range(constructed_data_test.shape[0]):\n",
    "        if constructed_data_test[:, 6][i] == 4:\n",
    "            R[i] = 1\n",
    "        elif constructed_data_test[:, 6][i] == 5:\n",
    "            R[i] = -C\n",
    "\n",
    "            \n",
    "# 将奖励添加到测试集中\n",
    "constructed_data_test = np.c_[constructed_data_test, R]   "
   ]
  },
  {
   "cell_type": "code",
   "execution_count": 3,
   "id": "99bd44ce",
   "metadata": {},
   "outputs": [
    {
     "name": "stdout",
     "output_type": "stream",
     "text": [
      "[NCF] epoch:30, xent:11.713759675621986\n",
      "[NCF] epoch:22, xent:21.279595658183098\n"
     ]
    }
   ],
   "source": [
    "# 使用神经协同过滤（NCF）模型来训练和预测用户行为\n",
    "\n",
    "# 创建和训练第一个模型（y0or）\n",
    "ncf_y0or = NCF(num_user, num_item, embedding_k = embedding_k)\n",
    "ncf_y0or.cuda()\n",
    "ncf_y0or.fit(x_tr[t_tr == 0], y_tr[t_tr == 0], lamb = 1e-5, lr = 0.01, batch_size = 8192)\n",
    "y0_or, _ = ncf_y0or.predict(x_tr)\n",
    "y0_or_te, _ = ncf_y0or.predict(x_te)\n",
    "\n",
    "# 创建和训练第二个模型（y1or）\n",
    "ncf_y1or = NCF(num_user, num_item, embedding_k = embedding_k)\n",
    "ncf_y1or.cuda()\n",
    "ncf_y1or.fit(x_tr[t_tr == 1], y_tr[t_tr == 1], lamb = 1e-5, lr = 0.01, batch_size = 8192)\n",
    "y1_or, _  = ncf_y1or.predict(x_tr)\n",
    "y1_or_te, _  = ncf_y1or.predict(x_te)\n",
    "\n",
    "# 计算奖励\n",
    "reward_or = (1 + C) * (y1_or_te - y0_or_te) - C\n",
    "temp_or = np.c_[constructed_data_test, reward_or]\n",
    "\n",
    "# 根据奖励值的高低排序\n",
    "temp_or = temp_or[np.argsort(-temp_or[:, -1])]"
   ]
  },
  {
   "cell_type": "code",
   "execution_count": 4,
   "id": "be7c20a0",
   "metadata": {},
   "outputs": [],
   "source": [
    "# 原始奖励\n",
    "reward_naive = y1_or_te - C\n",
    "temp_naive = np.c_[constructed_data_test, reward_naive]\n",
    "temp_naive = temp_naive[np.argsort(-temp_naive[:, -1])]"
   ]
  },
  {
   "cell_type": "code",
   "execution_count": 5,
   "id": "c4e5d65f",
   "metadata": {},
   "outputs": [
    {
     "name": "stdout",
     "output_type": "stream",
     "text": [
      "[NCF] epoch:15, xent:22.684517860412598\n"
     ]
    }
   ],
   "source": [
    "ncf = NCF(num_user, num_item, embedding_k = embedding_k)\n",
    "ncf.cuda()\n",
    "ncf.fit(x_tr[t_tr == 1], c_tr[t_tr == 1], lamb = 1e-5, lr = 0.01, batch_size = 8192)\n",
    "\n",
    "# 对c1进行预测\n",
    "c1_te, _ = ncf.predict(x_te)\n",
    "\n",
    "# 计算不同情况下的预测结果\n",
    "y1_or_c1_te = c1_te * y1_or_te\n",
    "y1_or_c0_te = (1-c1_te) * y1_or_te\n",
    "y0_or_c1_te = c1_te * (1-y1_or_te)\n",
    "y0_or_c0_te = (1-c1_te) * (1-y1_or_te)\n",
    "\n",
    "# 不同类别的概率\n",
    "pa_or = y0_or_c0_te\n",
    "pb_or = y1_or_c0_te\n",
    "pc_or = y0_or_c1_te\n",
    "pe_or = y0_or_te - y1_or_c0_te\n",
    "pd_or = y1_or_c1_te - pe_or\n",
    "\n",
    "\n",
    "if scenario == 'cash':\n",
    "    cost = np.array([0, 0, -C, 1, -C])\n",
    "    \n",
    "if scenario == 'coupon':\n",
    "    cost = np.array([0, 0, 0, 1, -C])    \n",
    "\n",
    "    \n",
    "\n",
    "p_or = np.c_[pa_or, pb_or, pc_or, pd_or, pe_or]    \n",
    "\n",
    "# 定义总奖励\n",
    "reward_or = np.sum(p_or * cost, axis = 1)\n",
    "\n",
    "# 对奖励值进行降序排序，确保奖励高的样本在前\n",
    "temp_or_ours = np.c_[constructed_data_test, reward_or]\n",
    "temp_or_ours = temp_or_ours[np.argsort(-temp_or_ours[:, -1])]"
   ]
  },
  {
   "cell_type": "code",
   "execution_count": 6,
   "id": "2d65d722",
   "metadata": {},
   "outputs": [
    {
     "name": "stdout",
     "output_type": "stream",
     "text": [
      "74426 15778 18467 70627 22730 61534.999999971005\n"
     ]
    }
   ],
   "source": [
    "temp_5 = temp_or_ours[:int(min(budget, sum(temp_or_ours[:, -1] > 0)/temp_or_ours.shape[0]) * temp_or_ours.shape[0])]\n",
    "a = sum(temp_5[:, 6] == 1)\n",
    "b = sum(temp_5[:, 6] == 2)\n",
    "c = sum(temp_5[:, 6] == 3)\n",
    "d = sum(temp_5[:, 6] == 4)\n",
    "e = sum(temp_5[:, 6] == 5)\n",
    "Real_reward = sum(temp_5[:, -2])\n",
    "print(a, b, c, d, e, Real_reward)"
   ]
  },
  {
   "cell_type": "code",
   "execution_count": 7,
   "id": "fa3b7583",
   "metadata": {},
   "outputs": [
    {
     "name": "stdout",
     "output_type": "stream",
     "text": [
      "36698 4196 5784 37296 7780 34183.999999994245\n"
     ]
    }
   ],
   "source": [
    "temp_5 = temp_or[:int(min(budget, sum(temp_or[:, -1] > 0)/temp_or.shape[0]) * temp_or.shape[0])]\n",
    "a = sum(temp_5[:, 6] == 1)\n",
    "b = sum(temp_5[:, 6] == 2)\n",
    "c = sum(temp_5[:, 6] == 3)\n",
    "d = sum(temp_5[:, 6] == 4)\n",
    "e = sum(temp_5[:, 6] == 5)\n",
    "Real_reward = sum(temp_5[:, -2])\n",
    "print(a, b, c, d, e, Real_reward)"
   ]
  },
  {
   "cell_type": "code",
   "execution_count": 8,
   "id": "d58014c5",
   "metadata": {},
   "outputs": [
    {
     "name": "stdout",
     "output_type": "stream",
     "text": [
      "14322 75719 50364 4172 57451 -18808.40000000552\n"
     ]
    }
   ],
   "source": [
    "temp_5 = temp_naive[:int(min(budget, sum(temp_naive[:, -1] > 0)/temp_naive.shape[0]) * temp_naive.shape[0])]\n",
    "a = sum(temp_5[:, 6] == 1)\n",
    "b = sum(temp_5[:, 6] == 2)\n",
    "c = sum(temp_5[:, 6] == 3)\n",
    "d = sum(temp_5[:, 6] == 4)\n",
    "e = sum(temp_5[:, 6] == 5)\n",
    "Real_reward = sum(temp_5[:, -2])\n",
    "print(a, b, c, d, e, Real_reward)"
   ]
  },
  {
   "cell_type": "code",
   "execution_count": 9,
   "id": "d262e896",
   "metadata": {},
   "outputs": [
    {
     "name": "stdout",
     "output_type": "stream",
     "text": [
      "[NCF] epoch:37, xent:22.491099908947945\n"
     ]
    }
   ],
   "source": [
    "ncf_ps = NCF(num_user, num_item, embedding_k = embedding_k)\n",
    "ncf_ps.cuda()\n",
    "ncf_ps.fit(x_tr, t_tr, lamb = 1e-5, lr = 0.01, batch_size = 8192)\n",
    "ps_tr, _ = ncf_ps.predict(x_tr)\n",
    "ps_tr = np.clip(ps_tr, 0.1, 0.9)"
   ]
  },
  {
   "cell_type": "code",
   "execution_count": 10,
   "id": "c6edc7b6",
   "metadata": {},
   "outputs": [
    {
     "name": "stdout",
     "output_type": "stream",
     "text": [
      "[NCF] epoch:23, xent:126.20267647504807\n",
      "[NCF] epoch:20, xent:149.22846603393555\n"
     ]
    }
   ],
   "source": [
    "ncf_y0ips = NCF(num_user, num_item, embedding_k = embedding_k)\n",
    "ncf_y0ips.cuda()\n",
    "ncf_y0ips.fit(x_tr, (1-t_tr) * (y_tr/(1-ps_tr)), lamb = 1e-5, lr = 0.01, batch_size = 8192)\n",
    "y0_ips, _  = ncf_y0ips.predict(x_tr)\n",
    "y0_ips_te, _  = ncf_y0ips.predict(x_te)\n",
    "\n",
    "ncf_y1ips = NCF(num_user, num_item, embedding_k = embedding_k)\n",
    "ncf_y1ips.cuda()\n",
    "ncf_y1ips.fit(x_tr, t_tr * y_tr/(ps_tr), lamb = 1e-5, lr = 0.01, batch_size = 8192)\n",
    "y1_ips, _  = ncf_y1ips.predict(x_tr)\n",
    "y1_ips_te, _  = ncf_y1ips.predict(x_te)\n",
    "\n",
    "reward_ips = (1 + C) * (y1_ips_te - y0_ips_te) - C\n",
    "temp_ips = np.c_[constructed_data_test, reward_ips]\n",
    "temp_ips = temp_ips[np.argsort(-temp_ips[:, -1])]"
   ]
  },
  {
   "cell_type": "code",
   "execution_count": 11,
   "id": "201ac197",
   "metadata": {},
   "outputs": [],
   "source": [
    "y1_ips_c1_te = c1_te * y1_ips_te\n",
    "y1_ips_c0_te = (1-c1_te) * y1_ips_te\n",
    "y0_ips_c1_te = c1_te * (1-y1_ips_te)\n",
    "y0_ips_c0_te = (1-c1_te) * (1-y1_ips_te)\n",
    "\n",
    "pa_ips = y0_ips_c0_te\n",
    "pb_ips = y1_ips_c0_te\n",
    "pc_ips = y0_ips_c1_te\n",
    "pe_ips = y0_ips_te - y1_ips_c0_te\n",
    "pd_ips = y1_ips_c1_te - pe_ips\n",
    "\n",
    "if scenario == 'cash':\n",
    "    cost = np.array([0, 0, -C, 1, -C])\n",
    "    \n",
    "if scenario == 'coupon':\n",
    "    cost = np.array([0, 0, 0, 1, -C])    \n",
    "    \n",
    "p_ips = np.c_[pa_ips, pb_ips, pc_ips, pd_ips, pe_ips]    \n",
    "    \n",
    "reward_ips = np.sum(p_ips * cost, axis = 1)\n",
    "\n",
    "temp_ips_ours = np.c_[constructed_data_test, reward_ips]\n",
    "temp_ips_ours = temp_ips_ours[np.argsort(-temp_ips_ours[:, -1])]"
   ]
  },
  {
   "cell_type": "code",
   "execution_count": 12,
   "id": "afd79b7f",
   "metadata": {},
   "outputs": [
    {
     "name": "stdout",
     "output_type": "stream",
     "text": [
      "82899 7042 13417 81492 17178 74620.80000003369\n"
     ]
    }
   ],
   "source": [
    "temp_5 = temp_ips_ours[:int(min(budget, sum(temp_ips_ours[:, -1] > 0)/temp_ips_ours.shape[0]) * temp_ips_ours.shape[0])]\n",
    "a = sum(temp_5[:, 6] == 1)\n",
    "b = sum(temp_5[:, 6] == 2)\n",
    "c = sum(temp_5[:, 6] == 3)\n",
    "d = sum(temp_5[:, 6] == 4)\n",
    "e = sum(temp_5[:, 6] == 5)\n",
    "Real_reward = sum(temp_5[:, -2])\n",
    "print(a, b, c, d, e, Real_reward)"
   ]
  },
  {
   "cell_type": "code",
   "execution_count": 13,
   "id": "d47b7114",
   "metadata": {},
   "outputs": [
    {
     "name": "stdout",
     "output_type": "stream",
     "text": [
      "81461 8558 14075 79336 18598 71896.80000001728\n"
     ]
    }
   ],
   "source": [
    "temp_5 = temp_ips[:int(min(budget, sum(temp_ips[:, -1] > 0)/temp_ips.shape[0]) * temp_ips.shape[0])]\n",
    "a = sum(temp_5[:, 6] == 1)\n",
    "b = sum(temp_5[:, 6] == 2)\n",
    "c = sum(temp_5[:, 6] == 3)\n",
    "d = sum(temp_5[:, 6] == 4)\n",
    "e = sum(temp_5[:, 6] == 5)\n",
    "Real_reward = sum(temp_5[:, -2])\n",
    "print(a, b, c, d, e, Real_reward)"
   ]
  },
  {
   "cell_type": "code",
   "execution_count": 14,
   "id": "9ad0ea28",
   "metadata": {},
   "outputs": [
    {
     "name": "stdout",
     "output_type": "stream",
     "text": [
      "[NCF] epoch:25, xent:89.36724120378494\n",
      "[NCF] epoch:15, xent:80.07591837644577\n"
     ]
    }
   ],
   "source": [
    "ncf_y0dr = NCF(num_user, num_item, embedding_k = embedding_k)\n",
    "ncf_y0dr.cuda()\n",
    "ncf_y0dr.fit(x_tr, ((1-t_tr) * (y_tr/(1-ps_tr) - y0_or/(1-ps_tr)) + y0_or), \n",
    "             lamb = 1e-5, lr = 0.01, batch_size = 8192)\n",
    "y0_dr_te,_ = ncf_y0dr.predict(x_te)\n",
    "\n",
    "ncf_y1dr = NCF(num_user, num_item, embedding_k = 64)\n",
    "ncf_y1dr.cuda()\n",
    "ncf_y1dr.fit(x_tr, (t_tr * (y_tr/(ps_tr) - y1_or/(ps_tr)) + y1_or),\n",
    "             lamb = 1e-5, lr = 0.01, batch_size = 8192)\n",
    "y1_dr_te,_ = ncf_y1dr.predict(x_te)\n",
    "\n",
    "reward_dr = (1 + C) * (y1_dr_te - y0_dr_te) - C\n",
    "temp_dr = np.c_[constructed_data_test, reward_dr]\n",
    "temp_dr = temp_dr[np.argsort(-temp_dr[:, -1])]"
   ]
  },
  {
   "cell_type": "code",
   "execution_count": 15,
   "id": "24ae661b",
   "metadata": {},
   "outputs": [],
   "source": [
    "y1_dr_c1_te = c1_te * y1_dr_te\n",
    "y1_dr_c0_te = (1-c1_te) * y1_dr_te\n",
    "y0_dr_c1_te = c1_te * (1-y1_dr_te)\n",
    "y0_dr_c0_te = (1-c1_te) * (1-y1_dr_te)\n",
    "\n",
    "pa_dr = y0_dr_c0_te\n",
    "pb_dr = y1_dr_c0_te\n",
    "pc_dr = y0_dr_c1_te\n",
    "pe_dr = y0_dr_te - y1_dr_c0_te\n",
    "pd_dr = y1_dr_c1_te - pe_dr\n",
    "\n",
    "if scenario == 'cash':\n",
    "    cost = np.array([0, 0, -C, 1, -C])\n",
    "    \n",
    "if scenario == 'coupon':\n",
    "    cost = np.array([0, 0, 0, 1, -C])    \n",
    "    \n",
    "p_dr = np.c_[pa_dr, pb_dr, pc_dr, pd_dr, pe_dr]    \n",
    "    \n",
    "reward_dr = np.sum(p_dr * cost, axis = 1)\n",
    "\n",
    "temp_dr_ours = np.c_[constructed_data_test, reward_dr]\n",
    "temp_dr_ours = temp_dr_ours[np.argsort(-temp_dr_ours[:, -1])]"
   ]
  },
  {
   "cell_type": "code",
   "execution_count": 16,
   "id": "9933e2f4",
   "metadata": {},
   "outputs": [
    {
     "name": "stdout",
     "output_type": "stream",
     "text": [
      "83219 6862 14685 81560 15702 75279.20000004367\n"
     ]
    }
   ],
   "source": [
    "temp_5 = temp_dr_ours[:int(min(budget, sum(temp_dr_ours[:, -1] > 0)/temp_dr_ours.shape[0]) * temp_dr_ours.shape[0])]\n",
    "a = sum(temp_5[:, 6] == 1)\n",
    "b = sum(temp_5[:, 6] == 2)\n",
    "c = sum(temp_5[:, 6] == 3)\n",
    "d = sum(temp_5[:, 6] == 4)\n",
    "e = sum(temp_5[:, 6] == 5)\n",
    "Real_reward = sum(temp_5[:, -2])\n",
    "print(a, b, c, d, e, Real_reward)"
   ]
  },
  {
   "cell_type": "code",
   "execution_count": 17,
   "id": "75815886",
   "metadata": {},
   "outputs": [
    {
     "name": "stdout",
     "output_type": "stream",
     "text": [
      "72513 4532 11023 73631 11183 69157.80000000223\n"
     ]
    }
   ],
   "source": [
    "temp_5 = temp_dr[:int(min(budget, sum(temp_dr[:, -1] > 0)/temp_dr.shape[0]) * temp_dr.shape[0])]\n",
    "a = sum(temp_5[:, 6] == 1)\n",
    "b = sum(temp_5[:, 6] == 2)\n",
    "c = sum(temp_5[:, 6] == 3)\n",
    "d = sum(temp_5[:, 6] == 4)\n",
    "e = sum(temp_5[:, 6] == 5)\n",
    "Real_reward = sum(temp_5[:, -2])\n",
    "print(a, b, c, d, e, Real_reward)"
   ]
  },
  {
   "cell_type": "code",
   "execution_count": 18,
   "id": "6a201ea9",
   "metadata": {},
   "outputs": [
    {
     "name": "stdout",
     "output_type": "stream",
     "text": [
      "[NCF] epoch:37, xent:10288872.5078125\n"
     ]
    }
   ],
   "source": [
    "ncf = NCF_ours(num_user, num_item, embedding_k = embedding_k)\n",
    "ncf.cuda()\n",
    "ncf.fit(x_tr, t_tr, c_tr, y_tr, eta = 0.5, alpha1 = 5, alpha = 1, beta = 1, theta = 5, gamma = 5, rho = 5, thr = 0.1,\n",
    "       lr=0.01,\n",
    "       batch_size=8192,\n",
    "       lamb=1e-5,\n",
    "       tol=1e-5,\n",
    "       verbose=False)\n",
    "\n",
    "if scenario == 'cash':\n",
    "    cost = np.array([0, 0, -C, 1, -C])\n",
    "    \n",
    "if scenario == 'coupon':\n",
    "    cost = np.array([0, 0, 0, 1, -C])\n",
    "\n",
    "pred_class = ncf.predict(constructed_data_test[:, :2]).reshape([-1, 5])\n",
    "reward_ours = np.sum(pred_class * cost, axis = 1)\n",
    "\n",
    "temp_ours = np.c_[constructed_data_test, reward_ours]\n",
    "temp_ours = temp_ours[np.argsort(-temp_ours[:, -1])]"
   ]
  },
  {
   "cell_type": "code",
   "execution_count": 19,
   "id": "2d6ed611",
   "metadata": {},
   "outputs": [
    {
     "name": "stdout",
     "output_type": "stream",
     "text": [
      "89874 42 9582 90201 12329 85269.40000006242\n"
     ]
    }
   ],
   "source": [
    "temp_5 = temp_ours[:int(min(budget, sum(temp_ours[:, -1] > 0)/temp_ours.shape[0]) * temp_ours.shape[0])]\n",
    "a = sum(temp_5[:, 6] == 1)\n",
    "b = sum(temp_5[:, 6] == 2)\n",
    "c = sum(temp_5[:, 6] == 3)\n",
    "d = sum(temp_5[:, 6] == 4)\n",
    "e = sum(temp_5[:, 6] == 5)\n",
    "Real_reward = sum(temp_5[:, -2])\n",
    "print(a, b, c, d, e, Real_reward)"
   ]
  }
 ],
 "metadata": {
  "kernelspec": {
   "display_name": "Python 3 (ipykernel)",
   "language": "python",
   "name": "python3"
  },
  "language_info": {
   "codemirror_mode": {
    "name": "ipython",
    "version": 3
   },
   "file_extension": ".py",
   "mimetype": "text/x-python",
   "name": "python",
   "nbconvert_exporter": "python",
   "pygments_lexer": "ipython3",
   "version": "3.8.10"
  }
 },
 "nbformat": 4,
 "nbformat_minor": 5
}
